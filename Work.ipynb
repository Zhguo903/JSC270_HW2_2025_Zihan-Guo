{
  "nbformat": 4,
  "nbformat_minor": 0,
  "metadata": {
    "colab": {
      "provenance": [],
      "name": "Work.ipynb",
      "authorship_tag": "ABX9TyPXviitO/h55yGivEqq4SgK",
      "include_colab_link": true
    },
    "kernelspec": {
      "name": "python3",
      "display_name": "Python 3"
    },
    "language_info": {
      "name": "python"
    }
  },
  "cells": [
    {
      "cell_type": "markdown",
      "metadata": {
        "id": "view-in-github",
        "colab_type": "text"
      },
      "source": [
        "<a href=\"https://colab.research.google.com/github/Zhguo903/JSC270_HW2_2025_Zihan-Guo/blob/main/Work.ipynb\" target=\"_parent\"><img src=\"https://colab.research.google.com/assets/colab-badge.svg\" alt=\"Open In Colab\"/></a>"
      ]
    },
    {
      "cell_type": "code",
      "execution_count": null,
      "metadata": {
        "id": "myNulV85EukU"
      },
      "outputs": [],
      "source": [
        "# [Open in Google Colab](https://colab.research.google.com/github/Zhguo903/JSC270_HW2_2025_Zihan-Guo/blob/main/YOUR_NOTEBOOK.ipynb)\n"
      ]
    }
  ]
}